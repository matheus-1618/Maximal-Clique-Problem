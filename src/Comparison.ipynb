{
  "nbformat": 4,
  "nbformat_minor": 0,
  "metadata": {
    "colab": {
      "provenance": [],
      "authorship_tag": "ABX9TyPntJEXv1XnrLJpV83K7wmz",
      "include_colab_link": true
    },
    "kernelspec": {
      "name": "python3",
      "display_name": "Python 3"
    },
    "language_info": {
      "name": "python"
    }
  },
  "cells": [
    {
      "cell_type": "markdown",
      "metadata": {
        "id": "view-in-github",
        "colab_type": "text"
      },
      "source": [
        "<a href=\"https://colab.research.google.com/github/matheus-1618/Maximal-Clique-Problem/blob/main/src/Comparison.ipynb\" target=\"_parent\"><img src=\"https://colab.research.google.com/assets/colab-badge.svg\" alt=\"Open In Colab\"/></a>"
      ]
    },
    {
      "cell_type": "code",
      "execution_count": 22,
      "metadata": {
        "colab": {
          "base_uri": "https://localhost:8080/"
        },
        "id": "TJT3WVPDaVSO",
        "outputId": "63219de5-f362-435c-8514-46a14aa734f3"
      },
      "outputs": [
        {
          "output_type": "stream",
          "name": "stdout",
          "text": [
            "Cloning into 'Maximal-Clique-Problem'...\n",
            "remote: Enumerating objects: 31, done.\u001b[K\n",
            "remote: Counting objects: 100% (31/31), done.\u001b[K\n",
            "remote: Compressing objects: 100% (26/26), done.\u001b[K\n",
            "remote: Total 31 (delta 11), reused 19 (delta 3), pack-reused 0\u001b[K\n",
            "Receiving objects: 100% (31/31), 753.40 KiB | 5.84 MiB/s, done.\n",
            "Resolving deltas: 100% (11/11), done.\n"
          ]
        }
      ],
      "source": [
        "!git clone https://github.com/matheus-1618/Maximal-Clique-Problem"
      ]
    },
    {
      "cell_type": "code",
      "source": [
        "%cd \"Maximal-Clique-Problem\"\n"
      ],
      "metadata": {
        "colab": {
          "base_uri": "https://localhost:8080/"
        },
        "id": "5L9hBY22aW1X",
        "outputId": "fb6934a8-2aaf-478b-f202-b1a40a2f8409"
      },
      "execution_count": 23,
      "outputs": [
        {
          "output_type": "stream",
          "name": "stdout",
          "text": [
            "/content/Maximal-Clique-Problem\n"
          ]
        }
      ]
    },
    {
      "cell_type": "code",
      "source": [
        "!g++ -Wall -O3 -g src/get_matrix.cpp -o src/main"
      ],
      "metadata": {
        "id": "FmZcBYowaaNt"
      },
      "execution_count": 29,
      "outputs": []
    },
    {
      "cell_type": "code",
      "source": [
        "!python3 src/generate_graph.py"
      ],
      "metadata": {
        "colab": {
          "base_uri": "https://localhost:8080/"
        },
        "id": "3mXj7GAPalwJ",
        "outputId": "6f26b677-6085-485b-edbd-903bc44b7cef"
      },
      "execution_count": 30,
      "outputs": [
        {
          "output_type": "stream",
          "name": "stdout",
          "text": [
            "Grafo densamente conectado gerado e salvo em 'grafo.txt'.\n"
          ]
        }
      ]
    },
    {
      "cell_type": "code",
      "source": [
        "!./src/main"
      ],
      "metadata": {
        "colab": {
          "base_uri": "https://localhost:8080/"
        },
        "id": "a48x3fNNatw6",
        "outputId": "03b66d3f-85f9-4125-ef23-668f7d310be3"
      },
      "execution_count": 31,
      "outputs": [
        {
          "output_type": "stream",
          "name": "stdout",
          "text": [
            "Maximal Clique: 99 98 97 96 90 82 74 73 18 3 \n"
          ]
        }
      ]
    },
    {
      "cell_type": "code",
      "source": [
        "!python3 src/verify_clique.py"
      ],
      "metadata": {
        "colab": {
          "base_uri": "https://localhost:8080/"
        },
        "id": "ckSaMQN9axj9",
        "outputId": "ebf03ad9-fcbc-4c9e-e8a4-faf07289339f"
      },
      "execution_count": 33,
      "outputs": [
        {
          "output_type": "stream",
          "name": "stdout",
          "text": [
            "Cliques maximais encontradas:\n",
            "Clique máxima encontrada: ['6', '60', '93', '9', '51', '88', '37', '5', '83', '46', '96', '53', '81', '90', '26', '21']\n"
          ]
        }
      ]
    },
    {
      "cell_type": "code",
      "source": [
        "!rm -rf Maximal-Clique-Problem/"
      ],
      "metadata": {
        "id": "vZOULmbab0U4"
      },
      "execution_count": 21,
      "outputs": []
    }
  ]
}