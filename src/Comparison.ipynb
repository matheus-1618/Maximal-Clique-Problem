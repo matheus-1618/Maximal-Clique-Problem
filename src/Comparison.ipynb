{
  "nbformat": 4,
  "nbformat_minor": 0,
  "metadata": {
    "colab": {
      "provenance": [],
      "authorship_tag": "ABX9TyMadXB4ON0v/9CNJrgshPxQ",
      "include_colab_link": true
    },
    "kernelspec": {
      "name": "python3",
      "display_name": "Python 3"
    },
    "language_info": {
      "name": "python"
    }
  },
  "cells": [
    {
      "cell_type": "markdown",
      "metadata": {
        "id": "view-in-github",
        "colab_type": "text"
      },
      "source": [
        "<a href=\"https://colab.research.google.com/github/matheus-1618/Maximal-Clique-Problem/blob/main/src/Comparison.ipynb\" target=\"_parent\"><img src=\"https://colab.research.google.com/assets/colab-badge.svg\" alt=\"Open In Colab\"/></a>"
      ]
    },
    {
      "cell_type": "code",
      "execution_count": 1,
      "metadata": {
        "colab": {
          "base_uri": "https://localhost:8080/"
        },
        "id": "c6jhr2Rex0WR",
        "outputId": "66cfd9d8-462c-4b00-cc52-43bd5c67ad3c"
      },
      "outputs": [
        {
          "output_type": "stream",
          "name": "stdout",
          "text": [
            "Cloning into 'Maximal-Clique-Problem'...\n",
            "remote: Enumerating objects: 68, done.\u001b[K\n",
            "remote: Counting objects: 100% (68/68), done.\u001b[K\n",
            "remote: Compressing objects: 100% (51/51), done.\u001b[K\n",
            "remote: Total 68 (delta 30), reused 44 (delta 15), pack-reused 0\u001b[K\n",
            "Receiving objects: 100% (68/68), 1.13 MiB | 3.26 MiB/s, done.\n",
            "Resolving deltas: 100% (30/30), done.\n"
          ]
        }
      ],
      "source": [
        "!git clone https://github.com/matheus-1618/Maximal-Clique-Problem\n",
        "\n",
        "\n"
      ]
    },
    {
      "cell_type": "code",
      "source": [
        "%cd \"Maximal-Clique-Problem/src\"\n"
      ],
      "metadata": {
        "colab": {
          "base_uri": "https://localhost:8080/"
        },
        "id": "YHlg4dU6x3C4",
        "outputId": "fdfc12dd-3789-49d8-a27f-5cd2ae8ba2b0"
      },
      "execution_count": 20,
      "outputs": [
        {
          "output_type": "stream",
          "name": "stdout",
          "text": [
            "[Errno 2] No such file or directory: 'Maximal-Clique-Problem/src'\n",
            "/content/Maximal-Clique-Problem/src\n",
            "Grafo densamente conectado gerado e salvo em 'grafo.txt'.\n",
            "[Implementation-Basics] Clique's Size: 4 Maximal Clique: 1 7 8 10 \n",
            "[Implementation-Heuristics] Clique's Size: 4 Maximal Clique: 4 7 8 9 \n",
            "[Verification] Clique's Size: 4 Maximal Clique:  [2, 4, 7, 9]\n"
          ]
        }
      ]
    },
    {
      "cell_type": "code",
      "source": [
        "!rm first_heuristics\n",
        "!python3 generate_graph.py\n",
        "!g++ -Wall -O3 -g get_matrix.cpp -o get_matrix\n",
        "!./get_matrix\n",
        "!g++ -Wall -O3 -g first_heuristics.cpp -o first_heuristics\n",
        "!./first_heuristics\n",
        "!python3 verify_clique.py"
      ],
      "metadata": {
        "colab": {
          "base_uri": "https://localhost:8080/"
        },
        "id": "eeiGoWP02bpl",
        "outputId": "4cbbc715-69e5-432a-88c3-334bf5692eec"
      },
      "execution_count": 23,
      "outputs": [
        {
          "output_type": "stream",
          "name": "stdout",
          "text": [
            "Grafo densamente conectado gerado e salvo em 'grafo.txt'.\n",
            "[Implementation-Basics] Clique's Size: 4 Maximal Clique: 5 7 9 10 \n",
            "[Implementation-Heuristics] Clique's Size: 5 Maximal Clique: 3 5 7 8 9 \n",
            "[Verification] Clique's Size: 5 Maximal Clique:  [1, 3, 5, 7, 8]\n"
          ]
        }
      ]
    },
    {
      "cell_type": "code",
      "source": [
        "%cd \"../..\"\n",
        "!rm -rf Maximal-Clique-Problem"
      ],
      "metadata": {
        "id": "weAMwcJZyFsj"
      },
      "execution_count": null,
      "outputs": []
    }
  ]
}