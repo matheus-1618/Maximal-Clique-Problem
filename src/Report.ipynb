{
  "cells": [
    {
      "cell_type": "markdown",
      "metadata": {
        "colab_type": "text",
        "id": "view-in-github"
      },
      "source": [
        "<a href=\"https://colab.research.google.com/github/matheus-1618/Maximal-Clique-Problem/blob/main/src/Comparison.ipynb\" target=\"_parent\"><img src=\"https://colab.research.google.com/assets/colab-badge.svg\" alt=\"Open In Colab\"/></a>"
      ]
    },
    {
      "attachments": {},
      "cell_type": "markdown",
      "metadata": {},
      "source": [
        "# Maximal Clique Problem\n",
        "In this notebook, we're going to track all the iterations until a good solution.\n",
        "\n",
        "**It's expected to run  this notebook in Google Colab, to run in a local machine (Linux ou WSL), run *run.sh* file**"
      ]
    },
    {
      "attachments": {},
      "cell_type": "markdown",
      "metadata": {},
      "source": [
        "## Setup"
      ]
    },
    {
      "cell_type": "code",
      "execution_count": 1,
      "metadata": {
        "colab": {
          "base_uri": "https://localhost:8080/"
        },
        "id": "c6jhr2Rex0WR",
        "outputId": "66cfd9d8-462c-4b00-cc52-43bd5c67ad3c"
      },
      "outputs": [
        {
          "name": "stderr",
          "output_type": "stream",
          "text": [
            "Cloning into 'Maximal-Clique-Problem'...\n"
          ]
        }
      ],
      "source": [
        "!git clone https://github.com/matheus-1618/Maximal-Clique-Problem"
      ]
    },
    {
      "cell_type": "code",
      "execution_count": 20,
      "metadata": {
        "colab": {
          "base_uri": "https://localhost:8080/"
        },
        "id": "YHlg4dU6x3C4",
        "outputId": "fdfc12dd-3789-49d8-a27f-5cd2ae8ba2b0"
      },
      "outputs": [
        {
          "name": "stdout",
          "output_type": "stream",
          "text": [
            "[Errno 2] No such file or directory: 'Maximal-Clique-Problem/src'\n",
            "/content/Maximal-Clique-Problem/src\n",
            "Grafo densamente conectado gerado e salvo em 'grafo.txt'.\n",
            "[Implementation-Basics] Clique's Size: 4 Maximal Clique: 1 7 8 10 \n",
            "[Implementation-Heuristics] Clique's Size: 4 Maximal Clique: 4 7 8 9 \n",
            "[Verification] Clique's Size: 4 Maximal Clique:  [2, 4, 7, 9]\n"
          ]
        }
      ],
      "source": [
        "%cd \"Maximal-Clique-Problem/src\""
      ]
    },
    {
      "attachments": {},
      "cell_type": "markdown",
      "metadata": {},
      "source": [
        "## Generating the graph\n",
        "Using the python lib *networkx*, we create a graph that it's going to be used in the implementations."
      ]
    },
    {
      "cell_type": "code",
      "execution_count": null,
      "metadata": {},
      "outputs": [],
      "source": [
        "!python3 python/generate_graph.py"
      ]
    },
    {
      "attachments": {},
      "cell_type": "markdown",
      "metadata": {},
      "source": [
        "## First implementation: Simple Search clique\n",
        "In the file named **0_search_clique.cpp** , we developed a simple search algorithm that starts always from the last node (by its ID in the graph file), and add a adjacent node if both belongs to the same clique."
      ]
    },
    {
      "cell_type": "code",
      "execution_count": 23,
      "metadata": {
        "colab": {
          "base_uri": "https://localhost:8080/"
        },
        "id": "eeiGoWP02bpl",
        "outputId": "4cbbc715-69e5-432a-88c3-334bf5692eec"
      },
      "outputs": [
        {
          "name": "stdout",
          "output_type": "stream",
          "text": [
            "Grafo densamente conectado gerado e salvo em 'grafo.txt'.\n",
            "[Implementation-Basics] Clique's Size: 4 Maximal Clique: 5 7 9 10 \n",
            "[Implementation-Heuristics] Clique's Size: 5 Maximal Clique: 3 5 7 8 9 \n",
            "[Verification] Clique's Size: 5 Maximal Clique:  [1, 3, 5, 7, 8]\n"
          ]
        }
      ],
      "source": [
        "!g++ -Wall -O3 -g implementations/0_search_clique.cpp -o 0_search_clique\n",
        "!./0_search_clique"
      ]
    },
    {
      "attachments": {},
      "cell_type": "markdown",
      "metadata": {},
      "source": [
        "## Second implementation: Using the number of edges as heuristics\n",
        "In the file named **1_edges_heuristic.cpp** ,we keep the basic logic of the implementation above, we sort the candidate's vector by the quantity of edges."
      ]
    },
    {
      "cell_type": "code",
      "execution_count": null,
      "metadata": {},
      "outputs": [],
      "source": [
        "!g++ -Wall -O3 -g implementations/1_edges_heuristic.cpp -o 1_edges_heuristic\n",
        "!./1_edges_heuristic"
      ]
    },
    {
      "attachments": {},
      "cell_type": "markdown",
      "metadata": {},
      "source": [
        "## Checking if the obtained Cliques are the maximal one or in the group of Maximals\n",
        "Using another python script from the lib *networkx*, we can check the maximal Clique and it's size, and compare with the result of our implementations above.  "
      ]
    },
    {
      "cell_type": "code",
      "execution_count": null,
      "metadata": {},
      "outputs": [],
      "source": [
        "!python3 python/verify_clique.py"
      ]
    },
    {
      "attachments": {},
      "cell_type": "markdown",
      "metadata": {},
      "source": [
        "## Clean up"
      ]
    },
    {
      "cell_type": "code",
      "execution_count": null,
      "metadata": {
        "id": "weAMwcJZyFsj"
      },
      "outputs": [],
      "source": [
        "%cd \"../..\"\n",
        "!rm -rf Maximal-Clique-Problem"
      ]
    }
  ],
  "metadata": {
    "colab": {
      "authorship_tag": "ABX9TyMadXB4ON0v/9CNJrgshPxQ",
      "include_colab_link": true,
      "provenance": []
    },
    "kernelspec": {
      "display_name": "Python 3",
      "name": "python3"
    },
    "language_info": {
      "codemirror_mode": {
        "name": "ipython",
        "version": 3
      },
      "file_extension": ".py",
      "mimetype": "text/x-python",
      "name": "python",
      "nbconvert_exporter": "python",
      "pygments_lexer": "ipython3",
      "version": "3.10.1"
    }
  },
  "nbformat": 4,
  "nbformat_minor": 0
}
