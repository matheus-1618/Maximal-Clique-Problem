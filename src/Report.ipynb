{
  "cells": [
    {
      "cell_type": "markdown",
      "metadata": {
        "id": "7txhS5PbCR5B"
      },
      "source": [
        "# Maximal Clique Problem\n",
        "## Report of implementations\n",
        "**Student:** Matheus Silva Melo de Oliveira\n",
        "\n",
        "**Institution:** Insper Instituto de Ensino e Pesquisa\n",
        "\n",
        "<div align=\"center\">\n",
        "<img width=\"400px\" src=\"https://upload.wikimedia.org/wikipedia/commons/thumb/d/d0/VR_complex.svg/1200px-VR_complex.svg.png\"/>\n",
        "</div>\n",
        "\n",
        "## Motivation\n",
        "The concept of a clique in a graph is relatively simple. At the most general level, a clique is a subset of a network in which the actors are more closely connected to each other than to other members of the network. In terms of friendship ties, for example, it is not uncommon to find human groups that form cliques based on age, gender, race, ethnicity, religion, ideology, and many other factors. A clique is, therefore, a set of vertices in a graph where every pair of vertices is directly connected by an edge.\n",
        "\n",
        "Finding the maximum clique in a graph is a computationally challenging task due to the combinatorial nature of the problem. The computational difficulty arises from the need to explore all possible combinations of vertices to identify the largest clique, which becomes exponential in relation to the number of vertices. This results in high computational complexity, even for moderately large graphs.\n",
        "\n",
        "Cliques are important because, in addition to developing homogeneous behaviors among their members, they have, by definition, great proximity, increasing the speed of exchanges. Thus, information directed at a clique is quickly absorbed by its members, who tend to perceive it similarly. This is important, for example, in segmentation strategies.\n",
        "\n",
        "Therefore, the efficient resolution of the maximum clique problem has valuable applications in areas ranging from computer science to data analysis in social networks.\n",
        "\n",
        "\n",
        "\n",
        "**It's expected to run  this notebook in Google Colab, to run in a local machine (Linux ou WSL), run *run.sh* file**"
      ]
    },
    {
      "cell_type": "markdown",
      "metadata": {
        "id": "MZtifg81CR5D"
      },
      "source": [
        "## Setup"
      ]
    },
    {
      "cell_type": "code",
      "execution_count": null,
      "metadata": {
        "colab": {
          "base_uri": "https://localhost:8080/"
        },
        "id": "MdTivkdCFEbc",
        "outputId": "79a38b6f-368d-4d8d-85c0-439939094cdc"
      },
      "outputs": [
        {
          "name": "stdout",
          "output_type": "stream",
          "text": [
            "/content\n"
          ]
        }
      ],
      "source": [
        "%cd \"../..\"\n",
        "!rm -rf Maximal-Clique-Problem"
      ]
    },
    {
      "cell_type": "code",
      "execution_count": null,
      "metadata": {
        "colab": {
          "base_uri": "https://localhost:8080/"
        },
        "id": "c6jhr2Rex0WR",
        "outputId": "3d7858c6-b809-4d6d-a765-001dfdd04ff5"
      },
      "outputs": [
        {
          "name": "stdout",
          "output_type": "stream",
          "text": [
            "Cloning into 'Maximal-Clique-Problem'...\n",
            "remote: Enumerating objects: 100, done.\u001b[K\n",
            "remote: Counting objects: 100% (100/100), done.\u001b[K\n",
            "remote: Compressing objects: 100% (76/76), done.\u001b[K\n",
            "remote: Total 100 (delta 48), reused 64 (delta 22), pack-reused 0\u001b[K\n",
            "Receiving objects: 100% (100/100), 1.13 MiB | 3.67 MiB/s, done.\n",
            "Resolving deltas: 100% (48/48), done.\n"
          ]
        }
      ],
      "source": [
        "!git clone https://github.com/matheus-1618/Maximal-Clique-Problem"
      ]
    },
    {
      "cell_type": "code",
      "execution_count": null,
      "metadata": {
        "colab": {
          "base_uri": "https://localhost:8080/"
        },
        "id": "YHlg4dU6x3C4",
        "outputId": "0e7a71d0-2377-4877-f19d-4fb173f73482"
      },
      "outputs": [
        {
          "name": "stdout",
          "output_type": "stream",
          "text": [
            "/content/Maximal-Clique-Problem/src\n"
          ]
        }
      ],
      "source": [
        "%cd \"Maximal-Clique-Problem/src\""
      ]
    },
    {
      "cell_type": "markdown",
      "metadata": {
        "id": "XUxdDvhPCR5H"
      },
      "source": [
        "## Generating the graph\n",
        "Using the python lib *networkx*, we create a graph that it's going to be used in the implementations."
      ]
    },
    {
      "cell_type": "code",
      "execution_count": null,
      "metadata": {
        "colab": {
          "base_uri": "https://localhost:8080/"
        },
        "id": "5Iyzkk5YCR5H",
        "outputId": "07effd68-fad1-4e53-9f11-af36dc380813"
      },
      "outputs": [
        {
          "name": "stdout",
          "output_type": "stream",
          "text": [
            "Grafo densamente conectado gerado e salvo em 'implementations/graph.txt'.\n"
          ]
        }
      ],
      "source": [
        "!python3 python/generate_graph.py"
      ]
    },
    {
      "cell_type": "markdown",
      "metadata": {
        "id": "WfkLvIwOCR5I"
      },
      "source": [
        "## First implementation: Simple Search clique\n",
        "In the file named **0_search_clique.cpp** , we developed a simple search algorithm that starts always from the last node (by its ID in the graph file), and add a adjacent node if both belongs to the same clique."
      ]
    },
    {
      "cell_type": "code",
      "execution_count": null,
      "metadata": {
        "colab": {
          "base_uri": "https://localhost:8080/"
        },
        "id": "eeiGoWP02bpl",
        "outputId": "160b775d-24e8-467d-967e-9af78494abbe"
      },
      "outputs": [
        {
          "name": "stdout",
          "output_type": "stream",
          "text": [
            "[Implementation-Basics] Clique's Size: 9 Maximal Clique: 27 29 60 64 79 95 96 97 100 \n"
          ]
        }
      ],
      "source": [
        "!g++ -Wall -O3 -g implementations/0_search_clique.cpp -o 0_search_clique\n",
        "!./0_search_clique"
      ]
    },
    {
      "cell_type": "markdown",
      "metadata": {
        "id": "a1Z8lp2hCR5J"
      },
      "source": [
        "## Second implementation: Using the number of edges as heuristics\n",
        "In the file named **1_edges_heuristic.cpp** ,we keep the basic logic of the implementation above, we sort the candidate's vector by the quantity of edges."
      ]
    },
    {
      "cell_type": "code",
      "execution_count": null,
      "metadata": {
        "colab": {
          "base_uri": "https://localhost:8080/"
        },
        "id": "7YMwkP2RCR5L",
        "outputId": "c674d504-d6f9-4dc2-b557-5ef617950eb3"
      },
      "outputs": [
        {
          "name": "stdout",
          "output_type": "stream",
          "text": [
            "[Implementation-Heuristics] Clique's Size: 13 Maximal Clique: 7 11 12 21 40 58 59 69 74 78 79 85 86 \n"
          ]
        }
      ],
      "source": [
        "!g++ -Wall -O3 -g implementations/1_edges_heuristic.cpp -o 1_edges_heuristic\n",
        "!./1_edges_heuristic"
      ]
    },
    {
      "cell_type": "markdown",
      "metadata": {
        "id": "7TJYskH7L8Bs"
      },
      "source": [
        "## Third implementation: Recursive Approach\n",
        "In the file named **2_recursive_clique.cpp**, we're using a recursive approach for each clique found."
      ]
    },
    {
      "cell_type": "code",
      "execution_count": null,
      "metadata": {
        "id": "se0DNKpNL8Bs"
      },
      "outputs": [],
      "source": [
        "g++ -Wall -O3 -g implementations/2_recursive_clique.cpp -o 2_recursive_clique\n",
        "./2_recursive_clique"
      ]
    },
    {
      "cell_type": "markdown",
      "metadata": {
        "id": "yo93jMbKCR5L"
      },
      "source": [
        "## Checking if the obtained Cliques are the maximal one or in the group of Maximals\n",
        "Using another python script from the lib *networkx*, we can check the maximal Clique and it's size, and compare with the result of our implementations above.  "
      ]
    },
    {
      "cell_type": "code",
      "execution_count": null,
      "metadata": {
        "colab": {
          "base_uri": "https://localhost:8080/"
        },
        "id": "TeSaMAWZCR5M",
        "outputId": "9e59a779-2153-4274-b0b3-fdcf0287dd08"
      },
      "outputs": [
        {
          "name": "stdout",
          "output_type": "stream",
          "text": [
            "[Verification] Clique's Size: 15 Maximal Clique:  [6, 18, 29, 34, 39, 40, 70, 74, 78, 81, 83, 85, 86, 90, 97]\n"
          ]
        }
      ],
      "source": [
        "!python3 python/verify_clique.py"
      ]
    },
    {
      "cell_type": "markdown",
      "metadata": {
        "id": "8OtcXM7dCR5M"
      },
      "source": [
        "## Clean up"
      ]
    },
    {
      "cell_type": "code",
      "execution_count": null,
      "metadata": {
        "id": "weAMwcJZyFsj"
      },
      "outputs": [],
      "source": [
        "%cd \"../..\"\n",
        "!rm -rf Maximal-Clique-Problem"
      ]
    }
  ],
  "metadata": {
    "colab": {
      "provenance": []
    },
    "kernelspec": {
      "display_name": "Python 3",
      "name": "python3"
    },
    "language_info": {
      "codemirror_mode": {
        "name": "ipython",
        "version": 3
      },
      "file_extension": ".py",
      "mimetype": "text/x-python",
      "name": "python",
      "nbconvert_exporter": "python",
      "pygments_lexer": "ipython3",
      "version": "3.10.1"
    }
  },
  "nbformat": 4,
  "nbformat_minor": 0
}